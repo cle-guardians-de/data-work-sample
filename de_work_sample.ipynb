{
  "nbformat": 4,
  "nbformat_minor": 0,
  "metadata": {
    "colab": {
      "name": "de-work-sample.ipynb",
      "provenance": [],
      "collapsed_sections": [],
      "authorship_tag": "ABX9TyPFmRiQLddZhSOMaBWzLpLT",
      "include_colab_link": true
    },
    "kernelspec": {
      "name": "python3",
      "display_name": "Python 3"
    },
    "language_info": {
      "name": "python"
    }
  },
  "cells": [
    {
      "cell_type": "markdown",
      "metadata": {
        "id": "view-in-github",
        "colab_type": "text"
      },
      "source": [
        "<a href=\"https://colab.research.google.com/github/cle-guardians-de/data-work-sample/blob/main/de_work_sample.ipynb\" target=\"_blank\"><img src=\"https://colab.research.google.com/assets/colab-badge.svg\" alt=\"Open In Colab\"/></a>"
      ]
    },
     {
      "cell_type": "markdown",
      "metadata": {
        "id": "view-in-github",
        "colab_type": "text"
      },
      "source": [
        "<a href=\"https://github.com/cle-guardians-de/data-work-sample\" target=\"_blank\">GitHub Source Repo</a>"
      ]
    },
    {
      "cell_type": "markdown",
      "source": [
        "##Welcome!\n",
        "\n",
        "Congratulations and thank you for making it this far in the interview process!\n",
        "\n",
        "As it should have been described to you, the following challenge is designed to reflect a real-world backend data Guardians' project.\n",
        "\n",
        "To get started run the code cell below.\n"
      ],
      "metadata": {
        "id": "hcstdq4DY_qC"
      }
    },
    {
      "cell_type": "code",
      "source": [
        "!wget https://github.com/cle-guardians-de/data-work-sample/raw/main/bball-sqlite.zip /content/bball-sqlite.zip\n",
        "!unzip /content/bball-sqlite.zip\n",
        "!wget https://github.com/cle-guardians-de/data-work-sample/raw/main/example_play.json /content/example_play.json\n",
        "\n",
        "import pandas as pd\n",
        "import sqlite3\n",
        "\n",
        "cnxn = sqlite3.connect('bball-sqlite.db')\n",
        "cursor = cnxn.cursor()\n",
        "\n",
        "print(\"Tables available are...\")\n",
        "query = \"SELECT name FROM sqlite_master WHERE type='table';\"\n",
        "df = pd.read_sql_query(query, cnxn)\n",
        "print(df.head(20))"
      ],
      "metadata": {
        "id": "5Xm-OFmDeo2v"
      },
      "execution_count": null,
      "outputs": []
    },
    {
      "cell_type": "markdown",
      "source": [
        "***The cell above should of downloaded needed files and resulted in final output displaying 4 tables from a sqlite database.  Batting, Pitching, Teams, and Players.  Please answer the following 3 questions to the best of your ability.***\n",
        "\n",
        "**1)** Analyst would like to see Shane Bieber's (Cleveland Player, player id=669456) earned run avg (ERA) for major league for each regular season. Along with that in the same result set they would like to see the difference between the previous seasons ERA to gauge how he's trending. Result set should be player, season, era, previous era, difference between previous year era, earned runs, and outs.  Any value that's represented as era should be in 3 decimal point precision.Pitching er=earned runs https://www.mlb.com/glossary/standard-stats/earned-run-average, outs are outs in inning https://www.mlb.com/glossary/standard-stats/innings-pitched"
      ],
      "metadata": {
        "id": "CA09HyFqiBmH"
      }
    },
    {
      "cell_type": "code",
      "source": [
        "print(\"answer 1)\")\n",
        "query = \"\"\"select 'player, era, prevEra, diff' x\"\"\"\n",
        "df = pd.read_sql(query, cnxn)\n",
        "print(df.head(100))"
      ],
      "metadata": {
        "id": "ojBAytHliZPx"
      },
      "execution_count": null,
      "outputs": []
    },
    {
      "cell_type": "markdown",
      "source": [
        "**2)** There's a new feed of player position data... we've been sent a sample play from the league. These files consist of nested json and we'd like to consume the data to begin getting this feed incorporated into our warehouse.  First step you've been tasked with is getting the positional data into sql rows/columns.  So, create a table called MergedPositionalData that consists of.. playId, timestamp, id, typ, x, y, z.  The json file is called example_play.json (downloaded in first code cell).  And the positional data is nested under mergedPositionalData key.  playId is under Play.  For context... this data is the x,y,z coordinate on the field of play for players, umpires, and the ball every .033 seconds.\n"
      ],
      "metadata": {
        "id": "3EFyT4r5itma"
      }
    },
    {
      "cell_type": "code",
      "source": [
        "print(\"starting 2)\")\n",
        "cnxn.execute(\"drop table if exists MergedPositionalData;\")\n"
      ],
      "metadata": {
        "id": "L4coml8Xi6hU"
      },
      "execution_count": null,
      "outputs": []
    },
    {
      "cell_type": "markdown",
      "source": [
        "**3)** With the sample data you just loaded... and given that the data spec says the capture time for every object is every 1/30th of a second.  Verify that this one plays timeseries is not missing data for any of the people it contains (people are id > 0, null id's are the ball and can be ignored).\n",
        " \n",
        "Return any data frame you see fit to explain... "
      ],
      "metadata": {
        "id": "zOzamBbEjCNu"
      }
    },
    {
      "cell_type": "code",
      "source": [
        "print(\"answer 3)\")\n",
        "\n",
        "cursor.close()\n",
        "cnxn.close()"
      ],
      "metadata": {
        "id": "8eRGe-A9jMTc"
      },
      "execution_count": null,
      "outputs": []
    },
    {
      "cell_type": "markdown",
      "source": [
        "##Bonus\n",
        "The original instructions of this challenge stated the notebook must be idempotent.  There is a bug in this notebook if we were to re-run after it had already been run.  Find the bug and correct it."
      ],
      "metadata": {
        "id": "jrFTHKzLk2Cd"
     }
    },
    {
      "cell_type": "markdown",
      "source": [
        "**Once complete save the notebook to google drive (File->Save a copy in Drive).  Then share by clicking top right button in notebook.  Ensure the access is anyone with link.  You should then paste that url and submit the form from the email you originally got for the coding challenge.  **"
      ],
      "metadata": {
        "id": "jrGTHKzLk2Cc"
      }
    }
  ]
}
